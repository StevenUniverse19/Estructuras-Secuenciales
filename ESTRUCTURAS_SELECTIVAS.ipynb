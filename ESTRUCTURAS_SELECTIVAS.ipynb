{
  "nbformat": 4,
  "nbformat_minor": 0,
  "metadata": {
    "colab": {
      "provenance": [],
      "authorship_tag": "ABX9TyNWy0QtfORLcvcRH2utC/TI",
      "include_colab_link": true
    },
    "kernelspec": {
      "name": "python3",
      "display_name": "Python 3"
    },
    "language_info": {
      "name": "python"
    }
  },
  "cells": [
    {
      "cell_type": "markdown",
      "metadata": {
        "id": "view-in-github",
        "colab_type": "text"
      },
      "source": [
        "<a href=\"https://colab.research.google.com/github/StevenUniverse19/Estructuras-Secuenciales/blob/main/ESTRUCTURAS_SELECTIVAS.ipynb\" target=\"_parent\"><img src=\"https://colab.research.google.com/assets/colab-badge.svg\" alt=\"Open In Colab\"/></a>"
      ]
    },
    {
      "cell_type": "markdown",
      "source": [
        "Ejecucion de Practicas con Estructuras Selectivas\n",
        "Nombre : Steven Jimenez Arroyo-Cristian Perez\n",
        "Curso : Ingenieria Mecanica\n",
        "Email: steven.jimenez@upb.edu.co cristianc.perez@upb.edu.co\n",
        "Fecha : 03/10/2025\n"
      ],
      "metadata": {
        "id": "4naUAvB3cHCU"
      }
    },
    {
      "cell_type": "markdown",
      "source": [
        "\n",
        "\n",
        "# Programa 1: Días de la Semana\n",
        "\n",
        "numero = int(input(\"Ingrese un número del 1 al 7: \"))\n",
        "\n",
        "if numero == 1:\n",
        "\n",
        "    print(\"Lunes\")\n",
        "\n",
        "elif numero == 2:\n",
        "\n",
        "    print(\"Martes\")\n",
        "\n",
        "elif numero == 3:\n",
        "\n",
        "    print(\"Miércoles\")\n",
        "\n",
        "elif numero == 4:\n",
        "\n",
        "    print(\"Jueves\")\n",
        "\n",
        "elif numero == 5:\n",
        "\n",
        "    print(\"Viernes\")\n",
        "\n",
        "elif numero == 6:\n",
        "\n",
        "    print(\"Sábado\")\n",
        "\n",
        "elif numero == 7:\n",
        "\n",
        "    print(\"Domingo\")\n",
        "\n",
        "else:\n",
        "\n",
        "    print(\"Error: el número debe estar entre 1 y 7.\")\n"
      ],
      "metadata": {
        "id": "mnJN-sajlrAp"
      }
    },
    {
      "cell_type": "code",
      "source": [
        "# Programa 1: Dias de la Semana\n",
        "numero = int(input(\"Ingrese un número del 1 al 7: \"))\n",
        "if numero == 1:\n",
        "   print(\"Lunes\")\n",
        "elif numero == 2:\n",
        "   print(\"Martes\")\n",
        "elif numero == 3:\n",
        "   print(\"Miércoles\")\n",
        "elif numero == 4:\n",
        "   print(\"Jueves\")\n",
        "elif numero == 5:\n",
        "   print(\"Viernes\")\n",
        "elif numero == 6:\n",
        "   print(\"Sábado\")\n",
        "elif numero == 7:\n",
        "   print(\"Domingo\")\n",
        "else:\n",
        "   print(\"Error: el número debe estar entre 1 y 7.\")"
      ],
      "metadata": {
        "id": "FaQyFZtj18he"
      },
      "execution_count": null,
      "outputs": []
    },
    {
      "cell_type": "markdown",
      "source": [
        "#Programa 2: Evaluacion de velocidad\n",
        "INICIO\n",
        "   LEER distancia\n",
        "   LEER tiempo\n",
        "   SI tiempo > 0 ENTONCES\n",
        "       velocidad ← (distancia / tiempo) * 3.6\n",
        "       SI velocidad > 120 ENTONCES\n",
        "           ESCRIBIR \"El vehículo va demasiado rápido\"\n",
        "       SINO SI velocidad < 20 ENTONCES\n",
        "           ESCRIBIR \"El vehículo va demasiado lento\"\n",
        "       SINO\n",
        "           ESCRIBIR \"Velocidad: \", velocidad, \" km/h\"\n",
        "       FIN SI\n",
        "   SINO\n",
        "       ESCRIBIR \"Error: el tiempo no puede ser cero o negativo\"\n",
        "   FIN SI\n",
        "   FIN"
      ],
      "metadata": {
        "id": "bq5d8AFsrwUS"
      }
    },
    {
      "cell_type": "code",
      "source": [
        "# Programa 2: Evaluación de Velocidad\n",
        "distancia = float(input(\"Ingrese la distancia recorrida (en metros): \"))\n",
        "tiempo = float(input(\"Ingrese el tiempo empleado (en segundos): \"))\n",
        "if tiempo > 0:\n",
        "   # Conversión: v (km/h) = (distancia en m / tiempo en s) * 3.6\n",
        "   velocidad = (distancia / tiempo) * 3.6\n",
        "   if velocidad > 120:\n",
        "       print(\"El vehículo va demasiado rápido \")\n",
        "   elif velocidad < 20:\n",
        "       print(\"El vehículo va demasiado lento \")\n",
        "   else:\n",
        "       print(f\"Velocidad: {velocidad:.2f} km/h\")\n",
        "else:\n",
        "   print(\"Error: el tiempo no puede ser cero o negativo.\")"
      ],
      "metadata": {
        "id": "v_30MMq0rw6i"
      },
      "execution_count": null,
      "outputs": []
    },
    {
      "cell_type": "markdown",
      "source": [
        "# Programa 3: Compra de grava\n",
        "INICIO\n",
        "   precio_lata ← 12900\n",
        "   costo_transporte ← 65000\n",
        "   LEER latas\n",
        "   subtotal ← latas * precio_lata\n",
        "   SI latas > 10 ENTONCES\n",
        "       subtotal ← subtotal * 0.90   // Aplica 10% de descuento\n",
        "   FIN SI\n",
        "   SI latas > 30 ENTONCES\n",
        "       transporte ← 0\n",
        "   SINO\n",
        "       transporte ← costo_transporte\n",
        "   FIN SI\n",
        "   total ← subtotal + transporte\n",
        "   ESCRIBIR \"Subtotal: \", subtotal\n",
        "   ESCRIBIR \"Transporte: \", transporte\n",
        "   ESCRIBIR \"Total a pagar: \", total\n",
        "FIN"
      ],
      "metadata": {
        "id": "tkNTzGCvsOj2"
      }
    },
    {
      "cell_type": "code",
      "source": [
        "# Programa 3: Total a pagar en la compra de grava\n",
        "precio_lata = 12900\n",
        "costo_transporte = 65000\n",
        "latas = int(input(\"Ingrese el número de latas a comprar: \"))\n",
        "subtotal = latas * precio_lata\n",
        "# Descuento por cantidad\n",
        "if latas > 10:\n",
        "   subtotal = subtotal * 0.90   # Aplica 10% de descuento\n",
        "# Transporte\n",
        "if latas > 30:\n",
        "   transporte = 0\n",
        "else:\n",
        "   transporte = costo_transporte\n",
        "total = subtotal + transporte\n",
        "print(f\"Subtotal: ${subtotal:,.0f}\")\n",
        "print(f\"Transporte: ${transporte:,.0f}\")\n",
        "print(f\"Total a pagar: ${total:,.0f}\")"
      ],
      "metadata": {
        "id": "0BudYHA_s12S"
      },
      "execution_count": null,
      "outputs": []
    }
  ]
}