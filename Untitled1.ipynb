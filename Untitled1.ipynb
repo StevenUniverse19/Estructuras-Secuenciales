{
  "nbformat": 4,
  "nbformat_minor": 0,
  "metadata": {
    "colab": {
      "provenance": [],
      "authorship_tag": "ABX9TyP7m1359k0I5EWV6WE8J4uY",
      "include_colab_link": true
    },
    "kernelspec": {
      "name": "python3",
      "display_name": "Python 3"
    },
    "language_info": {
      "name": "python"
    }
  },
  "cells": [
    {
      "cell_type": "markdown",
      "metadata": {
        "id": "view-in-github",
        "colab_type": "text"
      },
      "source": [
        "<a href=\"https://colab.research.google.com/github/StevenUniverse19/Estructuras-Secuenciales/blob/main/Untitled1.ipynb\" target=\"_parent\"><img src=\"https://colab.research.google.com/assets/colab-badge.svg\" alt=\"Open In Colab\"/></a>"
      ]
    },
    {
      "cell_type": "markdown",
      "source": [
        "EXAMEN_PSEUDOCODIGO_202502\n",
        "INGENIERIA MECANICA\n",
        "STEVEN ALFONSO JIMENEZ ARROYO\n",
        "EMAIL: steven.jimenez@upb.edu.co\n",
        "FECHA: 12/09/2025"
      ],
      "metadata": {
        "id": "Wieg-NI8VXOU"
      }
    },
    {
      "cell_type": "markdown",
      "source": [
        "\n",
        "Diseña un programa que calcule la cantidad total de una comida comprada en un restaurante.\n",
        "El programa debe pedir al usuario que ingrese el costo de la comida, y luego calcular la\n",
        "cantidad de una propina del 15% y un impuesto de venta del 7%. Muestra cada una de estas\n",
        "cantidades y el total.\n"
      ],
      "metadata": {
        "id": "hWuDNLshaZde"
      }
    },
    {
      "cell_type": "markdown",
      "source": [
        "Pseudocodigo\n",
        "Program calcular_comida_restaurante\n",
        "Start\n",
        "\n",
        "  Declare Variables\n",
        "  Declare costo de comida\n",
        "  Declare propina\n",
        "  Declare impuesto\n",
        "Display \" Ingrese el costo de la comida \"\n",
        "Input costo_comida\n",
        "Display \" Ingrese cantidad de la propina \"\n",
        "Input propina\n",
        "Display \" Ingrese el impuesto \"\n",
        "Input impuesto\n",
        "Set \" Calcular el total = costo_comida * valor impuesto + propina \"\n",
        "End"
      ],
      "metadata": {
        "id": "WoL_ik_Neazu"
      }
    },
    {
      "cell_type": "markdown",
      "source": [
        "# Programa para calcular el total de una comida en un restaurante\n",
        "\n",
        "# Solicitar al usuario el costo de la comida\n",
        "costo_comida = float(input(\"Ingrese el costo de la comida: $ \"))\n",
        "\n",
        "# Calcular propina (15%) e impuesto (7%)\n",
        "propina = costo_comida * 0.15\n",
        "impuesto = costo_comida * 0.07\n",
        "\n",
        "# Calcular el total\n",
        "total = costo_comida + propina + impuesto\n",
        "\n",
        "# Mostrar los resultados\n",
        "print(\"\\n--- Detalle de la cuenta ---\")\n",
        "print(f\"Costo de la comida: $ {costo_comida:.2f}\")\n",
        "print(f\"Propina (15%):     $ {propina:.2f}\")\n",
        "print(f\"Impuesto (7%):     $ {impuesto:.2f}\")\n",
        "print(f\"Total a pagar:     $ {total:.2f}\")\n"
      ],
      "metadata": {
        "id": "XBqpPZpqdI_X"
      }
    },
    {
      "cell_type": "markdown",
      "source": [
        "Pseudocodigo\n",
        "Program Convertir_temperaturas\n",
        "Start\n",
        " Declare Variables\n",
        " Declare temperatura_en celcius\n",
        " Declare formula de grados Fahrenheit\n",
        "Display \"Ingrese la temperatura en celcius\"\n",
        "Input_temperatura en celcius\n",
        "Display \"Ingrese la formula de grados fahrenheit\"\n",
        "Input_formula de grados fahrenheit\n",
        "Set \"𝐹 = 9/5 * C +32\"\n",
        "End\n"
      ],
      "metadata": {
        "id": "saDJXzhvl2fh"
      }
    },
    {
      "cell_type": "code",
      "source": [
        "# Programa: Convertidor de Celsius a Fahrenheit\n",
        "\n",
        "# Pedir la temperatura en Celsius al usuario\n",
        "celsius = float(input(\"Ingrese la temperatura en grados Celsius: \"))\n",
        "\n",
        "# Fórmula de conversión\n",
        "fahrenheit = (9/5) * celsius + 32\n",
        "\n",
        "# Mostrar el resultado\n",
        "print(f\"La temperatura en Fahrenheit es: {fahrenheit:.2f} °F\")"
      ],
      "metadata": {
        "id": "cD1mvSOUmNDB"
      },
      "execution_count": null,
      "outputs": []
    },
    {
      "cell_type": "markdown",
      "source": [
        "Pseudocodigo\n",
        "Program\n",
        "Start\n",
        "  Declare Real Variables\n",
        "  Declare Capital\n",
        "  Declare tasa de interes\n",
        "  Declare n\n",
        "  Declare tiempo\n",
        "  Declare monto final\n",
        "Display \"Ingrese el capital\"\n",
        "Input_capital\n",
        "Display \"Ingrese la tasa de interes\"\n",
        "Input_tasa de interes\n",
        "Display \"Ingrese n\"\n",
        "Input_n\n",
        "Display \"Ingrese el tiempo\"\n",
        "Input_tiempo\n",
        "Display \"Ingrese monto final\"\n",
        "Input_monto final\n",
        "Set \" Monto final = Capital *(1+ tasa/n)^n*tiempo\n",
        "End"
      ],
      "metadata": {
        "id": "_7MaDTB7rp5f"
      }
    },
    {
      "cell_type": "code",
      "source": [
        " Programa: Cálculo de Intereses Compuestos\n",
        "\n",
        "# Pedir datos al usuario\n",
        "capital = float(input(\"Ingrese el capital inicial: \"))\n",
        "tasa = float(input(\"Ingrese la tasa de interés anual (en %): \"))\n",
        "tiempo = int(input(\"Ingrese el número de años de la inversión: \"))\n",
        "n = int(input(\"Ingrese la cantidad de veces que el interés se capitaliza por año: \"))\n",
        "\n",
        "# Convertir tasa a decimal\n",
        "tasa_decimal = tasa / 100\n",
        "\n",
        "# Fórmula del interés compuesto\n",
        "monto_final = capital * (1 + tasa_decimal / n) ** (n * tiempo)\n",
        "\n",
        "# Mostrar resultado\n",
        "print(f\"\\nEl monto final de la inversión es: ${monto_final:.2f}\")"
      ],
      "metadata": {
        "id": "Iej8kvhGu1x1"
      },
      "execution_count": null,
      "outputs": []
    }
  ]
}